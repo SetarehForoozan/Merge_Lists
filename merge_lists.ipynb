{
 "cells": [
  {
   "cell_type": "code",
   "execution_count": 1,
   "metadata": {},
   "outputs": [],
   "source": [
    "import numpy as np"
   ]
  },
  {
   "cell_type": "code",
   "execution_count": 2,
   "metadata": {},
   "outputs": [],
   "source": [
    "def MergeList(original_list, add_list):\n",
    "    \"\"\"Only merges the two lists and removes the repetetive elements\n",
    "\n",
    "    Args:\n",
    "        original_list (array of strings): The original array\n",
    "        add_list (array of strings): The array to be added to the original array\n",
    "    \"\"\"\n",
    "    mother_list = np.concatenate((original_list, add_list), axis = 0)\n",
    "    mother_list = np.unique(mother_list)\n",
    "    return(mother_list)\n",
    "\n",
    "def RemoveList(mother_list, remove_list):\n",
    "    \"\"\"Removes the remove_list from the mother_list\n",
    "\n",
    "    Args:\n",
    "        mother_list (array of strings): an array of string elements\n",
    "        remove_list (array of strings): to be removed from the first array\n",
    "    \"\"\"\n",
    "    remove_list = np.unique(remove_list)\n",
    "    remove_inds = np.array([], int)\n",
    "    for element in remove_list:\n",
    "        remove_inds = np.append(remove_inds, np.where(mother_list == element)[0])\n",
    "    mother_rm_list = np.delete(mother_list, remove_inds)\n",
    "    return(mother_rm_list)    \n",
    "    \n",
    "def sort_charcount(x_array):\n",
    "    \"\"\"Sorts array in a way that:\n",
    "     -Most character count to least character count\n",
    "     -In the event of a tie, reverse alphabetical\n",
    "\n",
    "    Args:\n",
    "        x_array (array of strings): Presumably the original+add-remove array, but also can be any array\n",
    "\n",
    "    Returns:\n",
    "        array: sorted array\n",
    "    \"\"\"\n",
    "    sort_list = np.array(sorted(x_array)) ##This sorts in alphabetical order\n",
    "    sort_list = sort_list[::-1]   ###This reverses the alphabetical order\n",
    "    sort_list = np.array(sorted(sort_list, key=len, reverse=True)) ##Now this sorts in charachter count of the strings\n",
    "    return sort_list\n",
    "\n",
    "def SingleList(original_list, add_list, remove_list):\n",
    "    \"\"\"_summary_\n",
    "\n",
    "    Args:\n",
    "        original_list (array of strings): The original list\n",
    "        add_list (array of strings): The list to be added to the original list\n",
    "        remove_list (array of strings): The list to be removed from the original + added list\n",
    "\n",
    "    Returns:\n",
    "        array of strings: The final list (original + added - removed) sorted by 1st character count and 2nd by reverse alphabetical\n",
    "    \"\"\"\n",
    "    mother = MergeList(original_list, add_list)\n",
    "    mother_rm = RemoveList(mother, remove_list)\n",
    "    mother_rm_char = sort_charcount(mother_rm)\n",
    "    return mother_rm_char"
   ]
  },
  {
   "cell_type": "code",
   "execution_count": 3,
   "metadata": {},
   "outputs": [
    {
     "name": "stdout",
     "output_type": "stream",
     "text": [
      "['three' 'six' 'one']\n"
     ]
    }
   ],
   "source": [
    "Original_List = ['one', 'two', 'three']\n",
    "Add_List = ['one', 'two', 'five', 'six']\n",
    "Delete_List = ['two', 'five']\n",
    "print(SingleList(Original_List,Add_List,Delete_List))"
   ]
  },
  {
   "cell_type": "code",
   "execution_count": null,
   "metadata": {},
   "outputs": [],
   "source": []
  }
 ],
 "metadata": {
  "kernelspec": {
   "display_name": "Python 3.9.2 64-bit",
   "language": "python",
   "name": "python3"
  },
  "language_info": {
   "codemirror_mode": {
    "name": "ipython",
    "version": 3
   },
   "file_extension": ".py",
   "mimetype": "text/x-python",
   "name": "python",
   "nbconvert_exporter": "python",
   "pygments_lexer": "ipython3",
   "version": "3.9.2"
  },
  "orig_nbformat": 4,
  "vscode": {
   "interpreter": {
    "hash": "aee8b7b246df8f9039afb4144a1f6fd8d2ca17a180786b69acc140d282b71a49"
   }
  }
 },
 "nbformat": 4,
 "nbformat_minor": 2
}
